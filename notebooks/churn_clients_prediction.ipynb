{
 "cells": [
  {
   "cell_type": "markdown",
   "id": "dd02675c",
   "metadata": {},
   "source": [
    "# 0.0 Imports"
   ]
  },
  {
   "cell_type": "code",
   "execution_count": 59,
   "id": "75fc6d0a",
   "metadata": {
    "ExecuteTime": {
     "end_time": "2023-04-06T14:30:32.662587Z",
     "start_time": "2023-04-06T14:30:32.658317Z"
    }
   },
   "outputs": [],
   "source": [
    "import pandas            as pd\n",
    "import numpy             as np\n",
    "import seaborn           as sns\n",
    "import inflection\n",
    "\n",
    "from IPython.core.display import HTML\n",
    "from IPython.display      import Image\n",
    "from matplotlib           import pyplot as plt"
   ]
  },
  {
   "cell_type": "markdown",
   "id": "d75abd8b",
   "metadata": {},
   "source": [
    "## 0.1 Helper Functions"
   ]
  },
  {
   "cell_type": "code",
   "execution_count": 60,
   "id": "1d389c15",
   "metadata": {
    "ExecuteTime": {
     "end_time": "2023-04-06T14:30:34.411095Z",
     "start_time": "2023-04-06T14:30:34.401005Z"
    }
   },
   "outputs": [],
   "source": [
    "def jupyter_settings():\n",
    "    %matplotlib inline\n",
    "    %pylab inline\n",
    "\n",
    "    plt.style.use( 'bmh' )\n",
    "    plt.rcParams['figure.figsize'] = [25, 12]\n",
    "    plt.rcParams['font.size'] = 24\n",
    "    \n",
    "    display( HTML( '<style>.container { width:100% !important; }</style>') )\n",
    "    pd.options.display.max_columns = None\n",
    "    pd.options.display.max_rows = None\n",
    "    pd.set_option( 'display.expand_frame_repr', False )\n",
    "    \n",
    "    sns.set()"
   ]
  },
  {
   "cell_type": "markdown",
   "id": "ef1b00a5",
   "metadata": {},
   "source": [
    "## 0.2 Loading Data"
   ]
  },
  {
   "cell_type": "code",
   "execution_count": 2,
   "id": "73c179c6",
   "metadata": {
    "ExecuteTime": {
     "end_time": "2023-04-06T12:59:17.025052Z",
     "start_time": "2023-04-06T12:59:16.997308Z"
    }
   },
   "outputs": [],
   "source": [
    "df_raw = pd.read_csv('../data/raw/churn.csv', low_memory=False)"
   ]
  },
  {
   "cell_type": "code",
   "execution_count": 3,
   "id": "cb431c3d",
   "metadata": {
    "ExecuteTime": {
     "end_time": "2023-04-06T12:59:18.710536Z",
     "start_time": "2023-04-06T12:59:18.683675Z"
    }
   },
   "outputs": [
    {
     "data": {
      "text/html": [
       "<div>\n",
       "<style scoped>\n",
       "    .dataframe tbody tr th:only-of-type {\n",
       "        vertical-align: middle;\n",
       "    }\n",
       "\n",
       "    .dataframe tbody tr th {\n",
       "        vertical-align: top;\n",
       "    }\n",
       "\n",
       "    .dataframe thead th {\n",
       "        text-align: right;\n",
       "    }\n",
       "</style>\n",
       "<table border=\"1\" class=\"dataframe\">\n",
       "  <thead>\n",
       "    <tr style=\"text-align: right;\">\n",
       "      <th></th>\n",
       "      <th>RowNumber</th>\n",
       "      <th>CustomerId</th>\n",
       "      <th>Surname</th>\n",
       "      <th>CreditScore</th>\n",
       "      <th>Geography</th>\n",
       "      <th>Gender</th>\n",
       "      <th>Age</th>\n",
       "      <th>Tenure</th>\n",
       "      <th>Balance</th>\n",
       "      <th>NumOfProducts</th>\n",
       "      <th>HasCrCard</th>\n",
       "      <th>IsActiveMember</th>\n",
       "      <th>EstimatedSalary</th>\n",
       "      <th>Exited</th>\n",
       "    </tr>\n",
       "  </thead>\n",
       "  <tbody>\n",
       "    <tr>\n",
       "      <th>6971</th>\n",
       "      <td>6972</td>\n",
       "      <td>15658240</td>\n",
       "      <td>Parry</td>\n",
       "      <td>554</td>\n",
       "      <td>France</td>\n",
       "      <td>Female</td>\n",
       "      <td>44</td>\n",
       "      <td>9</td>\n",
       "      <td>135814.7</td>\n",
       "      <td>2</td>\n",
       "      <td>0</td>\n",
       "      <td>0</td>\n",
       "      <td>115091.38</td>\n",
       "      <td>0</td>\n",
       "    </tr>\n",
       "  </tbody>\n",
       "</table>\n",
       "</div>"
      ],
      "text/plain": [
       "      RowNumber  CustomerId Surname  CreditScore Geography  Gender  Age  \\\n",
       "6971       6972    15658240   Parry          554    France  Female   44   \n",
       "\n",
       "      Tenure   Balance  NumOfProducts  HasCrCard  IsActiveMember  \\\n",
       "6971       9  135814.7              2          0               0   \n",
       "\n",
       "      EstimatedSalary  Exited  \n",
       "6971        115091.38       0  "
      ]
     },
     "execution_count": 3,
     "metadata": {},
     "output_type": "execute_result"
    }
   ],
   "source": [
    "df_raw.sample()"
   ]
  },
  {
   "cell_type": "markdown",
   "id": "4c10d784",
   "metadata": {},
   "source": [
    "# 1.0 Data Description"
   ]
  },
  {
   "cell_type": "code",
   "execution_count": 4,
   "id": "de7e1681",
   "metadata": {
    "ExecuteTime": {
     "end_time": "2023-04-06T12:59:21.367688Z",
     "start_time": "2023-04-06T12:59:21.364370Z"
    }
   },
   "outputs": [],
   "source": [
    "# Cópia para otimização\n",
    "df1 = df_raw.copy()"
   ]
  },
  {
   "cell_type": "markdown",
   "id": "2773d1d4",
   "metadata": {},
   "source": [
    "## 1.1 Rename Columns"
   ]
  },
  {
   "cell_type": "code",
   "execution_count": 5,
   "id": "1266ac77",
   "metadata": {
    "ExecuteTime": {
     "end_time": "2023-04-06T12:59:23.680193Z",
     "start_time": "2023-04-06T12:59:23.673388Z"
    }
   },
   "outputs": [],
   "source": [
    "old_cols = ['RowNumber', 'CustomerId', 'Surname', 'CreditScore', 'Geography',\n",
    "       'Gender', 'Age', 'Tenure', 'Balance', 'NumOfProducts', 'HasCrCard',\n",
    "       'IsActiveMember', 'EstimatedSalary', 'Exited']\n",
    "\n",
    "snake_case = lambda x: inflection.underscore(x)\n",
    "\n",
    "new_cols = list( map(snake_case, old_cols))\n",
    "df1.columns = new_cols"
   ]
  },
  {
   "cell_type": "markdown",
   "id": "91c3a2dd",
   "metadata": {},
   "source": [
    "## 1.2 Data Dimensions"
   ]
  },
  {
   "cell_type": "code",
   "execution_count": 6,
   "id": "956899ba",
   "metadata": {
    "ExecuteTime": {
     "end_time": "2023-04-06T13:00:20.319887Z",
     "start_time": "2023-04-06T13:00:20.313255Z"
    }
   },
   "outputs": [
    {
     "name": "stdout",
     "output_type": "stream",
     "text": [
      "Number of rows: 10000\n",
      "Number of columns: 14\n"
     ]
    }
   ],
   "source": [
    "print(\"Number of rows: {}\".format(df1.shape[0]))\n",
    "print(\"Number of columns: {}\".format(df1.shape[1]))"
   ]
  },
  {
   "cell_type": "markdown",
   "id": "87f57aee",
   "metadata": {},
   "source": [
    "## 1.3 Data Types"
   ]
  },
  {
   "cell_type": "code",
   "execution_count": 7,
   "id": "80912795",
   "metadata": {
    "ExecuteTime": {
     "end_time": "2023-04-06T13:00:34.104093Z",
     "start_time": "2023-04-06T13:00:34.097099Z"
    }
   },
   "outputs": [
    {
     "data": {
      "text/plain": [
       "row_number            int64\n",
       "customer_id           int64\n",
       "surname              object\n",
       "credit_score          int64\n",
       "geography            object\n",
       "gender               object\n",
       "age                   int64\n",
       "tenure                int64\n",
       "balance             float64\n",
       "num_of_products       int64\n",
       "has_cr_card           int64\n",
       "is_active_member      int64\n",
       "estimated_salary    float64\n",
       "exited                int64\n",
       "dtype: object"
      ]
     },
     "execution_count": 7,
     "metadata": {},
     "output_type": "execute_result"
    }
   ],
   "source": [
    "df1.dtypes"
   ]
  },
  {
   "cell_type": "markdown",
   "id": "322c359e",
   "metadata": {},
   "source": [
    "## 1.4 Check NA "
   ]
  },
  {
   "cell_type": "code",
   "execution_count": 9,
   "id": "68b29b6e",
   "metadata": {
    "ExecuteTime": {
     "end_time": "2023-04-06T13:02:01.752718Z",
     "start_time": "2023-04-06T13:02:01.738554Z"
    }
   },
   "outputs": [
    {
     "data": {
      "text/plain": [
       "row_number          0\n",
       "customer_id         0\n",
       "surname             0\n",
       "credit_score        0\n",
       "geography           0\n",
       "gender              0\n",
       "age                 0\n",
       "tenure              0\n",
       "balance             0\n",
       "num_of_products     0\n",
       "has_cr_card         0\n",
       "is_active_member    0\n",
       "estimated_salary    0\n",
       "exited              0\n",
       "dtype: int64"
      ]
     },
     "execution_count": 9,
     "metadata": {},
     "output_type": "execute_result"
    }
   ],
   "source": [
    "df1.isna().sum()"
   ]
  },
  {
   "cell_type": "markdown",
   "id": "d34b5a69",
   "metadata": {},
   "source": [
    "## 1.5 Fillout NA "
   ]
  },
  {
   "cell_type": "code",
   "execution_count": 31,
   "id": "8c5a1d8e",
   "metadata": {
    "ExecuteTime": {
     "end_time": "2023-04-06T14:04:31.515627Z",
     "start_time": "2023-04-06T14:04:31.512627Z"
    }
   },
   "outputs": [],
   "source": [
    "# There's no NA data in this dataset"
   ]
  },
  {
   "cell_type": "markdown",
   "id": "65b11a7b",
   "metadata": {},
   "source": [
    "## 1.6 Change Types"
   ]
  },
  {
   "cell_type": "code",
   "execution_count": null,
   "id": "deb10a64",
   "metadata": {},
   "outputs": [],
   "source": [
    "# There's no data to change in this dataset"
   ]
  },
  {
   "cell_type": "markdown",
   "id": "51acd98d",
   "metadata": {},
   "source": [
    "## 1.7 Descriptive Statistical"
   ]
  },
  {
   "cell_type": "code",
   "execution_count": 11,
   "id": "5cfcdd9e",
   "metadata": {
    "ExecuteTime": {
     "end_time": "2023-04-06T13:08:55.758769Z",
     "start_time": "2023-04-06T13:08:55.754508Z"
    }
   },
   "outputs": [],
   "source": [
    "num_attributes = df1.select_dtypes( include=['int64', 'float64'])\n",
    "cat_attributes = df1.select_dtypes( exclude=['int64', 'float64'])"
   ]
  },
  {
   "cell_type": "markdown",
   "id": "61174e3f",
   "metadata": {},
   "source": [
    "### 1.7.1 Numerical Attributes"
   ]
  },
  {
   "cell_type": "code",
   "execution_count": 12,
   "id": "74e25d39",
   "metadata": {
    "ExecuteTime": {
     "end_time": "2023-04-06T13:08:56.667364Z",
     "start_time": "2023-04-06T13:08:56.604789Z"
    }
   },
   "outputs": [
    {
     "data": {
      "text/html": [
       "<div>\n",
       "<style scoped>\n",
       "    .dataframe tbody tr th:only-of-type {\n",
       "        vertical-align: middle;\n",
       "    }\n",
       "\n",
       "    .dataframe tbody tr th {\n",
       "        vertical-align: top;\n",
       "    }\n",
       "\n",
       "    .dataframe thead th {\n",
       "        text-align: right;\n",
       "    }\n",
       "</style>\n",
       "<table border=\"1\" class=\"dataframe\">\n",
       "  <thead>\n",
       "    <tr style=\"text-align: right;\">\n",
       "      <th></th>\n",
       "      <th>attributes</th>\n",
       "      <th>min</th>\n",
       "      <th>max</th>\n",
       "      <th>range</th>\n",
       "      <th>mean</th>\n",
       "      <th>median</th>\n",
       "      <th>std</th>\n",
       "      <th>skew</th>\n",
       "      <th>kurtosis</th>\n",
       "    </tr>\n",
       "  </thead>\n",
       "  <tbody>\n",
       "    <tr>\n",
       "      <th>0</th>\n",
       "      <td>row_number</td>\n",
       "      <td>1.00</td>\n",
       "      <td>10000.00</td>\n",
       "      <td>9999.00</td>\n",
       "      <td>5.000500e+03</td>\n",
       "      <td>5.000500e+03</td>\n",
       "      <td>2886.751332</td>\n",
       "      <td>0.000000</td>\n",
       "      <td>-1.200000</td>\n",
       "    </tr>\n",
       "    <tr>\n",
       "      <th>1</th>\n",
       "      <td>customer_id</td>\n",
       "      <td>15565701.00</td>\n",
       "      <td>15815690.00</td>\n",
       "      <td>249989.00</td>\n",
       "      <td>1.569094e+07</td>\n",
       "      <td>1.569074e+07</td>\n",
       "      <td>71932.589224</td>\n",
       "      <td>0.001149</td>\n",
       "      <td>-1.196113</td>\n",
       "    </tr>\n",
       "    <tr>\n",
       "      <th>2</th>\n",
       "      <td>credit_score</td>\n",
       "      <td>350.00</td>\n",
       "      <td>850.00</td>\n",
       "      <td>500.00</td>\n",
       "      <td>6.505288e+02</td>\n",
       "      <td>6.520000e+02</td>\n",
       "      <td>96.648466</td>\n",
       "      <td>-0.071607</td>\n",
       "      <td>-0.425726</td>\n",
       "    </tr>\n",
       "    <tr>\n",
       "      <th>3</th>\n",
       "      <td>age</td>\n",
       "      <td>18.00</td>\n",
       "      <td>92.00</td>\n",
       "      <td>74.00</td>\n",
       "      <td>3.892180e+01</td>\n",
       "      <td>3.700000e+01</td>\n",
       "      <td>10.487282</td>\n",
       "      <td>1.011320</td>\n",
       "      <td>1.395347</td>\n",
       "    </tr>\n",
       "    <tr>\n",
       "      <th>4</th>\n",
       "      <td>tenure</td>\n",
       "      <td>0.00</td>\n",
       "      <td>10.00</td>\n",
       "      <td>10.00</td>\n",
       "      <td>5.012800e+00</td>\n",
       "      <td>5.000000e+00</td>\n",
       "      <td>2.892030</td>\n",
       "      <td>0.010991</td>\n",
       "      <td>-1.165225</td>\n",
       "    </tr>\n",
       "    <tr>\n",
       "      <th>5</th>\n",
       "      <td>balance</td>\n",
       "      <td>0.00</td>\n",
       "      <td>250898.09</td>\n",
       "      <td>250898.09</td>\n",
       "      <td>7.648589e+04</td>\n",
       "      <td>9.719854e+04</td>\n",
       "      <td>62394.285254</td>\n",
       "      <td>-0.141109</td>\n",
       "      <td>-1.489412</td>\n",
       "    </tr>\n",
       "    <tr>\n",
       "      <th>6</th>\n",
       "      <td>num_of_products</td>\n",
       "      <td>1.00</td>\n",
       "      <td>4.00</td>\n",
       "      <td>3.00</td>\n",
       "      <td>1.530200e+00</td>\n",
       "      <td>1.000000e+00</td>\n",
       "      <td>0.581625</td>\n",
       "      <td>0.745568</td>\n",
       "      <td>0.582981</td>\n",
       "    </tr>\n",
       "    <tr>\n",
       "      <th>7</th>\n",
       "      <td>has_cr_card</td>\n",
       "      <td>0.00</td>\n",
       "      <td>1.00</td>\n",
       "      <td>1.00</td>\n",
       "      <td>7.055000e-01</td>\n",
       "      <td>1.000000e+00</td>\n",
       "      <td>0.455818</td>\n",
       "      <td>-0.901812</td>\n",
       "      <td>-1.186973</td>\n",
       "    </tr>\n",
       "    <tr>\n",
       "      <th>8</th>\n",
       "      <td>is_active_member</td>\n",
       "      <td>0.00</td>\n",
       "      <td>1.00</td>\n",
       "      <td>1.00</td>\n",
       "      <td>5.151000e-01</td>\n",
       "      <td>1.000000e+00</td>\n",
       "      <td>0.499772</td>\n",
       "      <td>-0.060437</td>\n",
       "      <td>-1.996747</td>\n",
       "    </tr>\n",
       "    <tr>\n",
       "      <th>9</th>\n",
       "      <td>estimated_salary</td>\n",
       "      <td>11.58</td>\n",
       "      <td>199992.48</td>\n",
       "      <td>199980.90</td>\n",
       "      <td>1.000902e+05</td>\n",
       "      <td>1.001939e+05</td>\n",
       "      <td>57507.617221</td>\n",
       "      <td>0.002085</td>\n",
       "      <td>-1.181518</td>\n",
       "    </tr>\n",
       "    <tr>\n",
       "      <th>10</th>\n",
       "      <td>exited</td>\n",
       "      <td>0.00</td>\n",
       "      <td>1.00</td>\n",
       "      <td>1.00</td>\n",
       "      <td>2.037000e-01</td>\n",
       "      <td>0.000000e+00</td>\n",
       "      <td>0.402748</td>\n",
       "      <td>1.471611</td>\n",
       "      <td>0.165671</td>\n",
       "    </tr>\n",
       "  </tbody>\n",
       "</table>\n",
       "</div>"
      ],
      "text/plain": [
       "          attributes          min          max      range          mean  \\\n",
       "0         row_number         1.00     10000.00    9999.00  5.000500e+03   \n",
       "1        customer_id  15565701.00  15815690.00  249989.00  1.569094e+07   \n",
       "2       credit_score       350.00       850.00     500.00  6.505288e+02   \n",
       "3                age        18.00        92.00      74.00  3.892180e+01   \n",
       "4             tenure         0.00        10.00      10.00  5.012800e+00   \n",
       "5            balance         0.00    250898.09  250898.09  7.648589e+04   \n",
       "6    num_of_products         1.00         4.00       3.00  1.530200e+00   \n",
       "7        has_cr_card         0.00         1.00       1.00  7.055000e-01   \n",
       "8   is_active_member         0.00         1.00       1.00  5.151000e-01   \n",
       "9   estimated_salary        11.58    199992.48  199980.90  1.000902e+05   \n",
       "10            exited         0.00         1.00       1.00  2.037000e-01   \n",
       "\n",
       "          median           std      skew  kurtosis  \n",
       "0   5.000500e+03   2886.751332  0.000000 -1.200000  \n",
       "1   1.569074e+07  71932.589224  0.001149 -1.196113  \n",
       "2   6.520000e+02     96.648466 -0.071607 -0.425726  \n",
       "3   3.700000e+01     10.487282  1.011320  1.395347  \n",
       "4   5.000000e+00      2.892030  0.010991 -1.165225  \n",
       "5   9.719854e+04  62394.285254 -0.141109 -1.489412  \n",
       "6   1.000000e+00      0.581625  0.745568  0.582981  \n",
       "7   1.000000e+00      0.455818 -0.901812 -1.186973  \n",
       "8   1.000000e+00      0.499772 -0.060437 -1.996747  \n",
       "9   1.001939e+05  57507.617221  0.002085 -1.181518  \n",
       "10  0.000000e+00      0.402748  1.471611  0.165671  "
      ]
     },
     "execution_count": 12,
     "metadata": {},
     "output_type": "execute_result"
    }
   ],
   "source": [
    "# Central tendency - mean, median\n",
    "ct1 = pd.DataFrame(num_attributes.apply(np.mean)).T\n",
    "ct2 = pd.DataFrame(num_attributes.apply(np.median)).T\n",
    "\n",
    "# Dispersion - std, max, min, range, skew, kurtosis\n",
    "d1 = pd.DataFrame(num_attributes.apply(np.std)).T\n",
    "d2 = pd.DataFrame(num_attributes.apply(min)).T\n",
    "d3 = pd.DataFrame(num_attributes.apply(max)).T\n",
    "d4 = pd.DataFrame(num_attributes.apply(lambda x: x.max() - x.min())).T\n",
    "d5 = pd.DataFrame(num_attributes.apply(lambda x: x.skew())).T\n",
    "d6 = pd.DataFrame(num_attributes.apply(lambda x: x.kurtosis())).T\n",
    "\n",
    "# Concatenate\n",
    "m = pd.concat([d2, d3, d4, ct1, ct2, d1, d5, d6]).T.reset_index()\n",
    "m.columns = ['attributes', 'min', 'max', 'range', 'mean', 'median', 'std', 'skew', 'kurtosis']\n",
    "m"
   ]
  },
  {
   "cell_type": "code",
   "execution_count": 55,
   "id": "e03b69e1",
   "metadata": {
    "ExecuteTime": {
     "end_time": "2023-04-06T14:29:16.523222Z",
     "start_time": "2023-04-06T14:29:16.256970Z"
    }
   },
   "outputs": [
    {
     "data": {
      "text/plain": [
       "<AxesSubplot:xlabel='estimated_salary'>"
      ]
     },
     "execution_count": 55,
     "metadata": {},
     "output_type": "execute_result"
    },
    {
     "data": {
      "image/png": "[encoded data removed]",
      "text/plain": [
       "<Figure size 1500x1000 with 6 Axes>"
      ]
     },
     "metadata": {},
     "output_type": "display_data"
    }
   ],
   "source": [
    "# Análise das variáveis numéricas no boxplot\n",
    "plt.figure(figsize=(15,10))\n",
    "\n",
    "plt.subplot(2, 3, 1)\n",
    "sns.boxplot(x='credit_score', data=num_attributes)\n",
    "\n",
    "plt.subplot(2, 3, 2)\n",
    "sns.boxplot(x='age', data=num_attributes)\n",
    "\n",
    "plt.subplot(2, 3, 3)\n",
    "sns.boxplot(x='tenure', data=num_attributes)\n",
    "\n",
    "plt.subplot(2, 3, 4)\n",
    "sns.boxplot(x='balance', data=num_attributes)\n",
    "\n",
    "plt.subplot(2, 3, 5)\n",
    "sns.boxplot(x='num_of_products', data=num_attributes)\n",
    "\n",
    "plt.subplot(2, 3, 6)\n",
    "sns.boxplot(x='estimated_salary', data=num_attributes)"
   ]
  },
  {
   "cell_type": "markdown",
   "id": "e084d7a7",
   "metadata": {},
   "source": [
    "### 1.7.2 Categorical Attributes"
   ]
  },
  {
   "cell_type": "code",
   "execution_count": 14,
   "id": "20273b36",
   "metadata": {
    "ExecuteTime": {
     "end_time": "2023-04-06T13:17:07.683929Z",
     "start_time": "2023-04-06T13:17:07.671384Z"
    }
   },
   "outputs": [
    {
     "data": {
      "text/plain": [
       "surname      2932\n",
       "geography       3\n",
       "gender          2\n",
       "dtype: int64"
      ]
     },
     "execution_count": 14,
     "metadata": {},
     "output_type": "execute_result"
    }
   ],
   "source": [
    "# Quantas variáveis categóricas em cada feature\n",
    "cat_attributes.apply( lambda x: x.unique().shape[0] )"
   ]
  },
  {
   "cell_type": "markdown",
   "id": "7c8a08e2",
   "metadata": {},
   "source": [
    "# 2.0 Feature Engineering"
   ]
  },
  {
   "cell_type": "code",
   "execution_count": 34,
   "id": "28f22f30",
   "metadata": {
    "ExecuteTime": {
     "end_time": "2023-04-06T14:07:42.446222Z",
     "start_time": "2023-04-06T14:07:42.440727Z"
    }
   },
   "outputs": [],
   "source": [
    "df2 = df1.copy()"
   ]
  },
  {
   "cell_type": "markdown",
   "id": "ad0bec84",
   "metadata": {},
   "source": [
    "## 2.1 MindMap Hypothesis"
   ]
  },
  {
   "cell_type": "code",
   "execution_count": null,
   "id": "f97d240a",
   "metadata": {},
   "outputs": [],
   "source": []
  },
  {
   "cell_type": "markdown",
   "id": "e59bcd16",
   "metadata": {},
   "source": [
    "## 2.2 Creating Hypothesis"
   ]
  },
  {
   "cell_type": "code",
   "execution_count": null,
   "id": "4d6ad4ff",
   "metadata": {},
   "outputs": [],
   "source": []
  },
  {
   "cell_type": "markdown",
   "id": "d3325aa3",
   "metadata": {},
   "source": [
    "## 2.3 Final List of Hypothesis"
   ]
  },
  {
   "cell_type": "code",
   "execution_count": null,
   "id": "3da71120",
   "metadata": {},
   "outputs": [],
   "source": []
  },
  {
   "cell_type": "markdown",
   "id": "676890ed",
   "metadata": {},
   "source": [
    "## 2.4 Feature Engineering"
   ]
  },
  {
   "cell_type": "code",
   "execution_count": null,
   "id": "f1b0f2c5",
   "metadata": {},
   "outputs": [],
   "source": []
  },
  {
   "cell_type": "markdown",
   "id": "2f3af1e4",
   "metadata": {},
   "source": [
    "# 3.0 Filtragem de Variáveis"
   ]
  },
  {
   "cell_type": "code",
   "execution_count": 40,
   "id": "77e85b85",
   "metadata": {
    "ExecuteTime": {
     "end_time": "2023-04-06T14:21:49.400450Z",
     "start_time": "2023-04-06T14:21:49.394977Z"
    }
   },
   "outputs": [],
   "source": [
    "df3 = df2.copy()"
   ]
  },
  {
   "cell_type": "code",
   "execution_count": 41,
   "id": "d8367a6a",
   "metadata": {
    "ExecuteTime": {
     "end_time": "2023-04-06T14:21:49.741508Z",
     "start_time": "2023-04-06T14:21:49.724846Z"
    }
   },
   "outputs": [
    {
     "data": {
      "text/html": [
       "<div>\n",
       "<style scoped>\n",
       "    .dataframe tbody tr th:only-of-type {\n",
       "        vertical-align: middle;\n",
       "    }\n",
       "\n",
       "    .dataframe tbody tr th {\n",
       "        vertical-align: top;\n",
       "    }\n",
       "\n",
       "    .dataframe thead th {\n",
       "        text-align: right;\n",
       "    }\n",
       "</style>\n",
       "<table border=\"1\" class=\"dataframe\">\n",
       "  <thead>\n",
       "    <tr style=\"text-align: right;\">\n",
       "      <th></th>\n",
       "      <th>row_number</th>\n",
       "      <th>customer_id</th>\n",
       "      <th>surname</th>\n",
       "      <th>credit_score</th>\n",
       "      <th>geography</th>\n",
       "      <th>gender</th>\n",
       "      <th>age</th>\n",
       "      <th>tenure</th>\n",
       "      <th>balance</th>\n",
       "      <th>num_of_products</th>\n",
       "      <th>has_cr_card</th>\n",
       "      <th>is_active_member</th>\n",
       "      <th>estimated_salary</th>\n",
       "      <th>exited</th>\n",
       "    </tr>\n",
       "  </thead>\n",
       "  <tbody>\n",
       "    <tr>\n",
       "      <th>0</th>\n",
       "      <td>1</td>\n",
       "      <td>15634602</td>\n",
       "      <td>Hargrave</td>\n",
       "      <td>619</td>\n",
       "      <td>France</td>\n",
       "      <td>Female</td>\n",
       "      <td>42</td>\n",
       "      <td>2</td>\n",
       "      <td>0.00</td>\n",
       "      <td>1</td>\n",
       "      <td>1</td>\n",
       "      <td>1</td>\n",
       "      <td>101348.88</td>\n",
       "      <td>1</td>\n",
       "    </tr>\n",
       "    <tr>\n",
       "      <th>1</th>\n",
       "      <td>2</td>\n",
       "      <td>15647311</td>\n",
       "      <td>Hill</td>\n",
       "      <td>608</td>\n",
       "      <td>Spain</td>\n",
       "      <td>Female</td>\n",
       "      <td>41</td>\n",
       "      <td>1</td>\n",
       "      <td>83807.86</td>\n",
       "      <td>1</td>\n",
       "      <td>0</td>\n",
       "      <td>1</td>\n",
       "      <td>112542.58</td>\n",
       "      <td>0</td>\n",
       "    </tr>\n",
       "    <tr>\n",
       "      <th>2</th>\n",
       "      <td>3</td>\n",
       "      <td>15619304</td>\n",
       "      <td>Onio</td>\n",
       "      <td>502</td>\n",
       "      <td>France</td>\n",
       "      <td>Female</td>\n",
       "      <td>42</td>\n",
       "      <td>8</td>\n",
       "      <td>159660.80</td>\n",
       "      <td>3</td>\n",
       "      <td>1</td>\n",
       "      <td>0</td>\n",
       "      <td>113931.57</td>\n",
       "      <td>1</td>\n",
       "    </tr>\n",
       "    <tr>\n",
       "      <th>3</th>\n",
       "      <td>4</td>\n",
       "      <td>15701354</td>\n",
       "      <td>Boni</td>\n",
       "      <td>699</td>\n",
       "      <td>France</td>\n",
       "      <td>Female</td>\n",
       "      <td>39</td>\n",
       "      <td>1</td>\n",
       "      <td>0.00</td>\n",
       "      <td>2</td>\n",
       "      <td>0</td>\n",
       "      <td>0</td>\n",
       "      <td>93826.63</td>\n",
       "      <td>0</td>\n",
       "    </tr>\n",
       "    <tr>\n",
       "      <th>4</th>\n",
       "      <td>5</td>\n",
       "      <td>15737888</td>\n",
       "      <td>Mitchell</td>\n",
       "      <td>850</td>\n",
       "      <td>Spain</td>\n",
       "      <td>Female</td>\n",
       "      <td>43</td>\n",
       "      <td>2</td>\n",
       "      <td>125510.82</td>\n",
       "      <td>1</td>\n",
       "      <td>1</td>\n",
       "      <td>1</td>\n",
       "      <td>79084.10</td>\n",
       "      <td>0</td>\n",
       "    </tr>\n",
       "  </tbody>\n",
       "</table>\n",
       "</div>"
      ],
      "text/plain": [
       "   row_number  customer_id   surname  credit_score geography  gender  age  \\\n",
       "0           1     15634602  Hargrave           619    France  Female   42   \n",
       "1           2     15647311      Hill           608     Spain  Female   41   \n",
       "2           3     15619304      Onio           502    France  Female   42   \n",
       "3           4     15701354      Boni           699    France  Female   39   \n",
       "4           5     15737888  Mitchell           850     Spain  Female   43   \n",
       "\n",
       "   tenure    balance  num_of_products  has_cr_card  is_active_member  \\\n",
       "0       2       0.00                1            1                 1   \n",
       "1       1   83807.86                1            0                 1   \n",
       "2       8  159660.80                3            1                 0   \n",
       "3       1       0.00                2            0                 0   \n",
       "4       2  125510.82                1            1                 1   \n",
       "\n",
       "   estimated_salary  exited  \n",
       "0         101348.88       1  \n",
       "1         112542.58       0  \n",
       "2         113931.57       1  \n",
       "3          93826.63       0  \n",
       "4          79084.10       0  "
      ]
     },
     "execution_count": 41,
     "metadata": {},
     "output_type": "execute_result"
    }
   ],
   "source": [
    "df3.head()"
   ]
  },
  {
   "cell_type": "markdown",
   "id": "96c9d719",
   "metadata": {},
   "source": [
    "## 3.1 Filtragem de linhas "
   ]
  },
  {
   "cell_type": "code",
   "execution_count": null,
   "id": "c71c811c",
   "metadata": {
    "ExecuteTime": {
     "end_time": "2023-04-06T14:20:29.596719Z",
     "start_time": "2023-04-06T14:20:29.582625Z"
    }
   },
   "outputs": [],
   "source": []
  },
  {
   "cell_type": "markdown",
   "id": "14970141",
   "metadata": {},
   "source": [
    "## 3.2 Filtragem de colunas"
   ]
  },
  {
   "cell_type": "code",
   "execution_count": 42,
   "id": "98c50009",
   "metadata": {
    "ExecuteTime": {
     "end_time": "2023-04-06T14:21:51.671684Z",
     "start_time": "2023-04-06T14:21:51.663711Z"
    }
   },
   "outputs": [],
   "source": [
    "cols_drop = ['row_number', 'customer_id', 'surname']\n",
    "\n",
    "df3 = df3.drop(cols_drop, axis=1)"
   ]
  },
  {
   "cell_type": "markdown",
   "id": "5af3cd4a",
   "metadata": {},
   "source": [
    "# 4.0 Análise Exploratória de Dados"
   ]
  },
  {
   "cell_type": "code",
   "execution_count": 43,
   "id": "fe06ff3a",
   "metadata": {
    "ExecuteTime": {
     "end_time": "2023-04-06T14:22:03.102953Z",
     "start_time": "2023-04-06T14:22:03.099098Z"
    }
   },
   "outputs": [],
   "source": [
    "df4 = df3.copy()"
   ]
  },
  {
   "cell_type": "markdown",
   "id": "3d475ac5",
   "metadata": {},
   "source": [
    "## 4.1 Response Variable"
   ]
  },
  {
   "cell_type": "code",
   "execution_count": 56,
   "id": "c2d6640d",
   "metadata": {
    "ExecuteTime": {
     "end_time": "2023-04-06T14:29:30.573201Z",
     "start_time": "2023-04-06T14:29:30.373083Z"
    }
   },
   "outputs": [
    {
     "name": "stderr",
     "output_type": "stream",
     "text": [
      "/Users/luishmq/.pyenv/versions/3.8.13/envs/churn_prediction/lib/python3.8/site-packages/seaborn/distributions.py:2619: FutureWarning: `distplot` is a deprecated function and will be removed in a future version. Please adapt your code to use either `displot` (a figure-level function with similar flexibility) or `histplot` (an axes-level function for histograms).\n",
      "  warnings.warn(msg, FutureWarning)\n"
     ]
    },
    {
     "data": {
      "text/plain": [
       "<AxesSubplot:xlabel='exited', ylabel='Density'>"
      ]
     },
     "execution_count": 56,
     "metadata": {},
     "output_type": "execute_result"
    },
    {
     "data": {
      "image/png": "[encoded data removed]",
      "text/plain": [
       "<Figure size 1500x1000 with 1 Axes>"
      ]
     },
     "metadata": {},
     "output_type": "display_data"
    }
   ],
   "source": [
    "plt.figure(figsize=(15,10))\n",
    "\n",
    "sns.distplot(df4['exited'])"
   ]
  },
  {
   "cell_type": "markdown",
   "id": "3585ff0d",
   "metadata": {},
   "source": [
    "## 4.2 Numerical Variable"
   ]
  },
  {
   "cell_type": "code",
   "execution_count": 58,
   "id": "84774faf",
   "metadata": {
    "ExecuteTime": {
     "end_time": "2023-04-06T14:29:57.047338Z",
     "start_time": "2023-04-06T14:29:56.564048Z"
    }
   },
   "outputs": [
    {
     "data": {
      "text/plain": [
       "array([[<AxesSubplot:title={'center':'row_number'}>,\n",
       "        <AxesSubplot:title={'center':'customer_id'}>,\n",
       "        <AxesSubplot:title={'center':'credit_score'}>],\n",
       "       [<AxesSubplot:title={'center':'age'}>,\n",
       "        <AxesSubplot:title={'center':'tenure'}>,\n",
       "        <AxesSubplot:title={'center':'balance'}>],\n",
       "       [<AxesSubplot:title={'center':'num_of_products'}>,\n",
       "        <AxesSubplot:title={'center':'has_cr_card'}>,\n",
       "        <AxesSubplot:title={'center':'is_active_member'}>],\n",
       "       [<AxesSubplot:title={'center':'estimated_salary'}>,\n",
       "        <AxesSubplot:title={'center':'exited'}>, <AxesSubplot:>]],\n",
       "      dtype=object)"
      ]
     },
     "execution_count": 58,
     "metadata": {},
     "output_type": "execute_result"
    },
    {
     "data": {
      "text/plain": [
       "<Figure size 1500x1000 with 0 Axes>"
      ]
     },
     "metadata": {},
     "output_type": "display_data"
    },
    {
     "data": {
      "image/png": "[encoded data removed]",
      "text/plain": [
       "<Figure size 640x480 with 12 Axes>"
      ]
     },
     "metadata": {},
     "output_type": "display_data"
    }
   ],
   "source": [
    "num_attributes.hist(bins=25)"
   ]
  },
  {
   "cell_type": "code",
   "execution_count": null,
   "id": "fd6d3c9b",
   "metadata": {},
   "outputs": [],
   "source": []
  }
 ],
 "metadata": {
  "kernelspec": {
   "display_name": "Python 3 (ipykernel)",
   "language": "python",
   "name": "python3"
  },
  "language_info": {
   "codemirror_mode": {
    "name": "ipython",
    "version": 3
   },
   "file_extension": ".py",
   "mimetype": "text/x-python",
   "name": "python",
   "nbconvert_exporter": "python",
   "pygments_lexer": "ipython3",
   "version": "3.8.13"
  },
  "varInspector": {
   "cols": {
    "lenName": 16,
    "lenType": 16,
    "lenVar": 40
   },
   "kernels_config": {
    "python": {
     "delete_cmd_postfix": "",
     "delete_cmd_prefix": "del ",
     "library": "var_list.py",
     "varRefreshCmd": "print(var_dic_list())"
    },
    "r": {
     "delete_cmd_postfix": ") ",
     "delete_cmd_prefix": "rm(",
     "library": "var_list.r",
     "varRefreshCmd": "cat(var_dic_list()) "
    }
   },
   "types_to_exclude": [
    "module",
    "function",
    "builtin_function_or_method",
    "instance",
    "_Feature"
   ],
   "window_display": false
  }
 },
 "nbformat": 4,
 "nbformat_minor": 5
}
